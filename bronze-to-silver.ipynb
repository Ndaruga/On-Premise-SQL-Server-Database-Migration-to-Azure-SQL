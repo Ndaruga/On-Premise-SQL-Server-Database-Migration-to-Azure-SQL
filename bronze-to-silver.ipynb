{
 "cells": [
  {
   "cell_type": "code",
   "execution_count": 0,
   "metadata": {
    "application/vnd.databricks.v1+cell": {
     "cellMetadata": {
      "byteLimit": 2048000,
      "rowLimit": 10000
     },
     "inputWidgets": {},
     "nuid": "24d1618d-6672-4b25-bccc-cdc09eb6c32f",
     "showTitle": false,
     "title": ""
    }
   },
   "outputs": [
    {
     "output_type": "execute_result",
     "data": {
      "text/plain": [
       "[FileInfo(path='dbfs:/mnt/bronze/dbo/Badges/', name='Badges/', size=0, modificationTime=1702955508000),\n",
       " FileInfo(path='dbfs:/mnt/bronze/dbo/Comments/', name='Comments/', size=0, modificationTime=1702956412000),\n",
       " FileInfo(path='dbfs:/mnt/bronze/dbo/LinkTypes/', name='LinkTypes/', size=0, modificationTime=1702955423000),\n",
       " FileInfo(path='dbfs:/mnt/bronze/dbo/PostLinks/', name='PostLinks/', size=0, modificationTime=1702956203000),\n",
       " FileInfo(path='dbfs:/mnt/bronze/dbo/PostTypes/', name='PostTypes/', size=0, modificationTime=1702955342000),\n",
       " FileInfo(path='dbfs:/mnt/bronze/dbo/Posts/', name='Posts/', size=0, modificationTime=1702957475000),\n",
       " FileInfo(path='dbfs:/mnt/bronze/dbo/Users/', name='Users/', size=0, modificationTime=1702955801000),\n",
       " FileInfo(path='dbfs:/mnt/bronze/dbo/VoteTypes/', name='VoteTypes/', size=0, modificationTime=1702955342000),\n",
       " FileInfo(path='dbfs:/mnt/bronze/dbo/Votes/', name='Votes/', size=0, modificationTime=1702956152000)]"
      ]
     },
     "execution_count": 1,
     "metadata": {},
     "output_type": "execute_result"
    }
   ],
   "source": [
    "dbutils.fs.ls(\"/mnt/bronze/dbo\")"
   ]
  },
  {
   "cell_type": "markdown",
   "metadata": {
    "application/vnd.databricks.v1+cell": {
     "cellMetadata": {
      "byteLimit": 2048000,
      "rowLimit": 10000
     },
     "inputWidgets": {},
     "nuid": "16c8e993-db1d-4744-a1fa-4699da28b443",
     "showTitle": false,
     "title": ""
    }
   },
   "source": [
    "Get all filenames in an array"
   ]
  },
  {
   "cell_type": "code",
   "execution_count": 0,
   "metadata": {
    "application/vnd.databricks.v1+cell": {
     "cellMetadata": {
      "byteLimit": 2048000,
      "rowLimit": 10000
     },
     "inputWidgets": {},
     "nuid": "e1104225-9e76-40ee-82be-f022e3e0b012",
     "showTitle": false,
     "title": ""
    }
   },
   "outputs": [
    {
     "output_type": "execute_result",
     "data": {
      "text/plain": [
       "['Badges',\n",
       " 'Comments',\n",
       " 'LinkTypes',\n",
       " 'PostLinks',\n",
       " 'PostTypes',\n",
       " 'Posts',\n",
       " 'Users',\n",
       " 'VoteTypes',\n",
       " 'Votes']"
      ]
     },
     "execution_count": 2,
     "metadata": {},
     "output_type": "execute_result"
    }
   ],
   "source": [
    "table_names = []\n",
    "\n",
    "root_path = \"/mnt/bronze/dbo\"\n",
    "\n",
    "for i in dbutils.fs.ls(root_path):\n",
    "    table_names.append(i.name.split('/')[0])\n",
    "table_names"
   ]
  },
  {
   "cell_type": "code",
   "execution_count": 0,
   "metadata": {
    "application/vnd.databricks.v1+cell": {
     "cellMetadata": {
      "byteLimit": 2048000,
      "rowLimit": 10000
     },
     "inputWidgets": {},
     "nuid": "1bbe9feb-bb1e-4673-9e3a-18a16a62524b",
     "showTitle": false,
     "title": ""
    }
   },
   "outputs": [],
   "source": [
    "table_names.remove('Users')"
   ]
  },
  {
   "cell_type": "markdown",
   "metadata": {
    "application/vnd.databricks.v1+cell": {
     "cellMetadata": {
      "byteLimit": 2048000,
      "rowLimit": 10000
     },
     "inputWidgets": {},
     "nuid": "1ee9ece5-1d9d-48c4-9094-1365a87d498e",
     "showTitle": false,
     "title": ""
    }
   },
   "source": [
    "##Remove all HTML tags"
   ]
  },
  {
   "cell_type": "code",
   "execution_count": 0,
   "metadata": {
    "application/vnd.databricks.v1+cell": {
     "cellMetadata": {
      "byteLimit": 2048000,
      "rowLimit": 10000
     },
     "inputWidgets": {},
     "nuid": "22eb4cf6-2227-4a2c-9760-df357ca67c7b",
     "showTitle": false,
     "title": ""
    }
   },
   "outputs": [],
   "source": [
    "import re\n",
    "from pyspark.sql.functions import udf\n",
    "from pyspark.sql.types import StringType\n",
    "\n",
    "cols_with_html = ['Body', 'AboutMe']"
   ]
  },
  {
   "cell_type": "code",
   "execution_count": 0,
   "metadata": {
    "application/vnd.databricks.v1+cell": {
     "cellMetadata": {
      "byteLimit": 2048000,
      "rowLimit": 10000
     },
     "inputWidgets": {},
     "nuid": "8666dc25-9fff-4445-9288-b02678dec2ea",
     "showTitle": false,
     "title": ""
    }
   },
   "outputs": [],
   "source": [
    "# Function to remove HTML tags using regular expressions\n",
    "def remove_html_tags(text):\n",
    "    clean = re.sub(r'<[^>]*>', '', text)\n",
    "    return clean"
   ]
  },
  {
   "cell_type": "code",
   "execution_count": 0,
   "metadata": {
    "application/vnd.databricks.v1+cell": {
     "cellMetadata": {
      "byteLimit": 2048000,
      "rowLimit": 10000
     },
     "inputWidgets": {},
     "nuid": "5a6325c9-b852-4be4-b1ac-ff77ea6c1b3c",
     "showTitle": false,
     "title": ""
    }
   },
   "outputs": [
    {
     "output_type": "stream",
     "name": "stdout",
     "output_type": "stream",
     "text": [
      "\nTable name: Badges\n+-----+-------+------+--------------------+\n|   Id|   Name|UserId|                Date|\n+-----+-------+------+--------------------+\n|82946|Teacher|  3718|2008-09-15 08:55:...|\n|82947|Teacher|   994|2008-09-15 08:55:...|\n|82949|Teacher|  3893|2008-09-15 08:55:...|\n|82950|Teacher|  4591|2008-09-15 08:55:...|\n|82951|Teacher|  5196|2008-09-15 08:55:...|\n+-----+-------+------+--------------------+\nonly showing top 5 rows\n\n\nTable name: Comments\n+---+--------------------+------+-----+--------------------+------+\n| Id|        CreationDate|PostId|Score|                Text|UserId|\n+---+--------------------+------+-----+--------------------+------+\n|  2|2008-09-06 08:09:...| 35314|    8|Yeah, I didn't be...|     3|\n|  4|2008-09-06 08:42:...| 35195|    0|I don't see an ac...|   380|\n|  9|2008-09-06 12:26:...| 47239|    0|Jonathan: Wow!  T...|  4550|\n| 10|2008-09-06 13:38:...| 45651|    6|It will help if y...|   242|\n| 12|2008-09-06 13:51:...| 47428|    3|One of the things...|  4642|\n+---+--------------------+------+-----+--------------------+------+\nonly showing top 5 rows\n\n\nTable name: LinkTypes\n+---+---------+\n| Id|     Type|\n+---+---------+\n|  1|   Linked|\n|  3|Duplicate|\n+---+---------+\n\n\nTable name: PostLinks\n+---+--------------------+------+-------------+----------+\n| Id|        CreationDate|PostId|RelatedPostId|LinkTypeId|\n+---+--------------------+------+-------------+----------+\n| 19|2010-04-26 02:59:...|   109|        32412|         1|\n| 37|2010-04-26 02:59:...|  1970|       617600|         1|\n| 42|2010-04-26 02:59:...|  2154|      2451138|         1|\n| 48|2010-04-26 02:59:...|  2483|       496096|         1|\n| 52|2010-04-26 02:59:...|  2572|       209329|         1|\n+---+--------------------+------+-------------+----------+\nonly showing top 5 rows\n\n\nTable name: PostTypes\n+---+-------------+\n| Id|         Type|\n+---+-------------+\n|  1|     Question|\n|  2|       Answer|\n|  3|         Wiki|\n|  4|TagWikiExerpt|\n|  5|      TagWiki|\n+---+-------------+\nonly showing top 5 rows\n\n\nTable name: Posts\n+---+----------------+-----------+--------------------+----------+------------+--------------------+--------------------+-------------+--------------------+--------------------+---------------------+----------------+-----------+--------+----------+-----+--------------------+--------------------+---------+\n| Id|AcceptedAnswerId|AnswerCount|                Body|ClosedDate|CommentCount|  CommunityOwnedDate|        CreationDate|FavoriteCount|    LastActivityDate|        LastEditDate|LastEditorDisplayName|LastEditorUserId|OwnerUserId|ParentId|PostTypeId|Score|                Tags|               Title|ViewCount|\n+---+----------------+-----------+--------------------+----------+------------+--------------------+--------------------+-------------+--------------------+--------------------+---------------------+----------------+-----------+--------+----------+-----+--------------------+--------------------+---------+\n|  4|               7|         13|I want to use a t...|      NULL|           1|2012-10-31 16:42:...|2008-07-31 21:42:...|           41|2018-07-02 17:55:...|2018-07-02 17:55:...|               Rich B|         6786713|          8|       0|         1|  573|<c#><floating-poi...|Convert Decimal t...|    37080|\n|  6|              31|          5|I have an absolut...|      NULL|           0|                NULL|2008-07-31 22:08:...|           10|2016-03-19 06:10:...|2016-03-19 06:05:...|               Rich B|           63550|          9|       0|         1|  256|<html><css><css3>...|Percentage width ...|    16306|\n|  7|               0|          0|An explicit cast ...|      NULL|           0|                NULL|2008-07-31 22:17:...|            0|2017-12-16 05:06:...|2017-12-16 05:06:...|                 NULL|         4020527|          9|       4|         2|  401|                NULL|                NULL|        0|\n|  9|            1404|         64|Given a DateTime ...|      NULL|           7|2011-08-16 19:40:...|2008-07-31 23:40:...|          399|2018-07-25 11:57:...|2018-04-21 17:48:...|               Rich B|         3956566|          1|       0|         1| 1743|<c#><.net><datetime>|How do I calculat...|   480476|\n| 11|            1248|         35|Given a specific ...|      NULL|           3|2009-09-04 13:15:...|2008-07-31 23:55:...|          529|2018-07-05 04:00:...|2017-06-04 15:51:...|          user2370523|         6479704|          1|       0|         1| 1348|<c#><datetime><ti...|Calculate relativ...|   136033|\n+---+----------------+-----------+--------------------+----------+------------+--------------------+--------------------+-------------+--------------------+--------------------+---------------------+----------------+-----------+--------+----------+-----+--------------------+--------------------+---------+\nonly showing top 5 rows\n\n\nTable name: VoteTypes\n+---+--------------------+\n| Id|                Name|\n+---+--------------------+\n|  1|AcceptedByOriginator|\n|  2|               UpMod|\n|  3|             DownMod|\n|  4|           Offensive|\n|  5|            Favorite|\n+---+--------------------+\nonly showing top 5 rows\n\n\nTable name: Votes\n+---+------+------+------------+----------+-------------------+\n| Id|PostId|UserId|BountyAmount|VoteTypeId|       CreationDate|\n+---+------+------+------------+----------+-------------------+\n|  1|     1|  NULL|        NULL|         2|2008-07-31 00:00:00|\n|  2|     3|  NULL|        NULL|         2|2008-07-31 00:00:00|\n|  3|     2|  NULL|        NULL|         2|2008-07-31 00:00:00|\n|  4|     4|  NULL|        NULL|         2|2008-07-31 00:00:00|\n|  5|     6|  NULL|        NULL|         2|2008-07-31 00:00:00|\n+---+------+------+------------+----------+-------------------+\nonly showing top 5 rows\n\n"
     ]
    }
   ],
   "source": [
    "\n",
    "for i in table_names:\n",
    "    file = f'/mnt/bronze/dbo/{i}/{i}.parquet'\n",
    "    df = spark.read.format('parquet').load(file)\n",
    "    column = df.columns\n",
    "    print(f\"\\nTable name: {i}\")\n",
    "    # Define the remove_html_tags function as a UDF\n",
    "    remove_html_tags_udf = udf(remove_html_tags, StringType())  # Assuming remove_html_tags returns a string\n",
    "\n",
    "    for col in df.columns:\n",
    "        if col in cols_with_html:\n",
    "            df = df.withColumn(col, remove_html_tags_udf(col))  # Use withColumn to apply the UDF\n",
    "    df.show(5)\n",
    "    \n",
    "    # Write to silver container in the data lake\n",
    "    output_path = f'/mnt/silver/dbo/{i}'\n",
    "    df.write.format('delta').mode(\"append\").save(output_path)"
   ]
  }
 ],
 "metadata": {
  "application/vnd.databricks.v1+notebook": {
   "dashboards": [],
   "language": "python",
   "notebookMetadata": {
    "pythonIndentUnit": 4
   },
   "notebookName": "bronze-to-silver",
   "widgets": {}
  }
 },
 "nbformat": 4,
 "nbformat_minor": 0
}
