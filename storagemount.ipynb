{
 "cells": [
  {
   "cell_type": "code",
   "execution_count": 0,
   "metadata": {
    "application/vnd.databricks.v1+cell": {
     "cellMetadata": {
      "byteLimit": 2048000,
      "rowLimit": 10000
     },
     "inputWidgets": {},
     "nuid": "78a7cb10-25a5-4038-b0e6-64c9614d8cd0",
     "showTitle": false,
     "title": ""
    }
   },
   "outputs": [
    {
     "output_type": "execute_result",
     "data": {
      "text/plain": [
       "True"
      ]
     },
     "execution_count": 1,
     "metadata": {},
     "output_type": "execute_result"
    }
   ],
   "source": [
    "configs = {\n",
    "  \"fs.azure.account.auth.type\": \"CustomAccessToken\",\n",
    "  \"fs.azure.account.custom.token.provider.class\": spark.conf.get(\"spark.databricks.passthrough.adls.gen2.tokenProviderClassName\")\n",
    "}\n",
    "\n",
    "# Optionally, you can add <directory-name> to the source URI of your mount point.\n",
    "dbutils.fs.mount(\n",
    "  source = \"abfss://bronze@stackoverflowdatalake.dfs.core.windows.net/\",\n",
    "  mount_point = \"/mnt/bronze\",\n",
    "  extra_configs = configs)"
   ]
  },
  {
   "cell_type": "code",
   "execution_count": 0,
   "metadata": {
    "application/vnd.databricks.v1+cell": {
     "cellMetadata": {
      "byteLimit": 2048000,
      "rowLimit": 10000
     },
     "inputWidgets": {},
     "nuid": "36a55f4c-417f-401b-b951-a8617df108b5",
     "showTitle": false,
     "title": ""
    }
   },
   "outputs": [
    {
     "output_type": "execute_result",
     "data": {
      "text/plain": [
       "[FileInfo(path='dbfs:/mnt/bronze/dbo/Badges/', name='Badges/', size=0, modificationTime=1702955508000),\n",
       " FileInfo(path='dbfs:/mnt/bronze/dbo/Comments/', name='Comments/', size=0, modificationTime=1702956412000),\n",
       " FileInfo(path='dbfs:/mnt/bronze/dbo/LinkTypes/', name='LinkTypes/', size=0, modificationTime=1702955423000),\n",
       " FileInfo(path='dbfs:/mnt/bronze/dbo/PostLinks/', name='PostLinks/', size=0, modificationTime=1702956203000),\n",
       " FileInfo(path='dbfs:/mnt/bronze/dbo/PostTypes/', name='PostTypes/', size=0, modificationTime=1702955342000),\n",
       " FileInfo(path='dbfs:/mnt/bronze/dbo/Posts/', name='Posts/', size=0, modificationTime=1702957475000),\n",
       " FileInfo(path='dbfs:/mnt/bronze/dbo/Users/', name='Users/', size=0, modificationTime=1702955801000),\n",
       " FileInfo(path='dbfs:/mnt/bronze/dbo/VoteTypes/', name='VoteTypes/', size=0, modificationTime=1702955342000),\n",
       " FileInfo(path='dbfs:/mnt/bronze/dbo/Votes/', name='Votes/', size=0, modificationTime=1702956152000)]"
      ]
     },
     "execution_count": 5,
     "metadata": {},
     "output_type": "execute_result"
    }
   ],
   "source": [
    "dbutils.fs.ls(\"/mnt/bronze/dbo\")"
   ]
  },
  {
   "cell_type": "code",
   "execution_count": 0,
   "metadata": {
    "application/vnd.databricks.v1+cell": {
     "cellMetadata": {
      "byteLimit": 2048000,
      "rowLimit": 10000
     },
     "inputWidgets": {},
     "nuid": "81273013-8b6a-43aa-b11f-f6d8c91ca8e9",
     "showTitle": false,
     "title": ""
    }
   },
   "outputs": [
    {
     "output_type": "execute_result",
     "data": {
      "text/plain": [
       "True"
      ]
     },
     "execution_count": 6,
     "metadata": {},
     "output_type": "execute_result"
    }
   ],
   "source": [
    "# Mount the silver container\n",
    "dbutils.fs.mount(\n",
    "  source = \"abfss://silver@stackoverflowdatalake.dfs.core.windows.net/\",\n",
    "  mount_point = \"/mnt/silver\",\n",
    "  extra_configs = configs)"
   ]
  },
  {
   "cell_type": "code",
   "execution_count": 0,
   "metadata": {
    "application/vnd.databricks.v1+cell": {
     "cellMetadata": {
      "byteLimit": 2048000,
      "rowLimit": 10000
     },
     "inputWidgets": {},
     "nuid": "e089b543-777c-466a-9669-39bcb1f92970",
     "showTitle": false,
     "title": ""
    }
   },
   "outputs": [
    {
     "output_type": "execute_result",
     "data": {
      "text/plain": [
       "True"
      ]
     },
     "execution_count": 7,
     "metadata": {},
     "output_type": "execute_result"
    }
   ],
   "source": [
    "# Mount the gold container\n",
    "dbutils.fs.mount(\n",
    "  source = \"abfss://gold@stackoverflowdatalake.dfs.core.windows.net/\",\n",
    "  mount_point = \"/mnt/gold\",\n",
    "  extra_configs = configs)"
   ]
  }
 ],
 "metadata": {
  "application/vnd.databricks.v1+notebook": {
   "dashboards": [],
   "language": "python",
   "notebookMetadata": {
    "pythonIndentUnit": 4
   },
   "notebookName": "storagemount",
   "widgets": {}
  }
 },
 "nbformat": 4,
 "nbformat_minor": 0
}
